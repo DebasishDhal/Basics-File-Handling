{
 "cells": [
  {
   "cell_type": "code",
   "execution_count": 1,
   "metadata": {},
   "outputs": [],
   "source": [
    "import pandas as pd\n",
    "import json\n",
    "import os\n",
    "import numpy as np"
   ]
  },
  {
   "cell_type": "markdown",
   "metadata": {},
   "source": [
    "# Create csv file"
   ]
  },
  {
   "cell_type": "code",
   "execution_count": 2,
   "metadata": {},
   "outputs": [
    {
     "data": {
      "text/html": [
       "<div>\n",
       "<style scoped>\n",
       "    .dataframe tbody tr th:only-of-type {\n",
       "        vertical-align: middle;\n",
       "    }\n",
       "\n",
       "    .dataframe tbody tr th {\n",
       "        vertical-align: top;\n",
       "    }\n",
       "\n",
       "    .dataframe thead th {\n",
       "        text-align: right;\n",
       "    }\n",
       "</style>\n",
       "<table border=\"1\" class=\"dataframe\">\n",
       "  <thead>\n",
       "    <tr style=\"text-align: right;\">\n",
       "      <th></th>\n",
       "      <th>odia</th>\n",
       "      <th>hindi</th>\n",
       "      <th>age</th>\n",
       "    </tr>\n",
       "  </thead>\n",
       "  <tbody>\n",
       "    <tr>\n",
       "      <th>0</th>\n",
       "      <td>ରାମ</td>\n",
       "      <td>राम</td>\n",
       "      <td>23</td>\n",
       "    </tr>\n",
       "    <tr>\n",
       "      <th>1</th>\n",
       "      <td>ହରି</td>\n",
       "      <td>हरि</td>\n",
       "      <td>34</td>\n",
       "    </tr>\n",
       "    <tr>\n",
       "      <th>2</th>\n",
       "      <td>ଯୋଗୀ</td>\n",
       "      <td>योगी</td>\n",
       "      <td>45</td>\n",
       "    </tr>\n",
       "  </tbody>\n",
       "</table>\n",
       "</div>"
      ],
      "text/plain": [
       "   odia hindi  age\n",
       "0   ରାମ   राम   23\n",
       "1   ହରି   हरि   34\n",
       "2  ଯୋଗୀ  योगी   45"
      ]
     },
     "execution_count": 2,
     "metadata": {},
     "output_type": "execute_result"
    }
   ],
   "source": [
    "odiaNames = ['ରାମ', 'ହରି', 'ଯୋଗୀ']\n",
    "hindiNames = ['राम', 'हरि', 'योगी']\n",
    "age = [23, 34, 45]\n",
    "\n",
    "df = pd.DataFrame({'odia': odiaNames, 'hindi': hindiNames, 'age': age})\n",
    "df"
   ]
  },
  {
   "cell_type": "code",
   "execution_count": 3,
   "metadata": {},
   "outputs": [],
   "source": [
    "df.to_csv('names.csv', index=False, encoding='utf-8') \n",
    "#index=False to remove index column\n",
    "# encoding='utf-8' to save in utf-8 format. It's fine to not put it as well.\n",
    "# utf-8 is the default encoding for pandas"
   ]
  },
  {
   "cell_type": "markdown",
   "metadata": {},
   "source": [
    "# Reading csv file"
   ]
  },
  {
   "cell_type": "code",
   "execution_count": 6,
   "metadata": {},
   "outputs": [
    {
     "data": {
      "text/html": [
       "<div>\n",
       "<style scoped>\n",
       "    .dataframe tbody tr th:only-of-type {\n",
       "        vertical-align: middle;\n",
       "    }\n",
       "\n",
       "    .dataframe tbody tr th {\n",
       "        vertical-align: top;\n",
       "    }\n",
       "\n",
       "    .dataframe thead th {\n",
       "        text-align: right;\n",
       "    }\n",
       "</style>\n",
       "<table border=\"1\" class=\"dataframe\">\n",
       "  <thead>\n",
       "    <tr style=\"text-align: right;\">\n",
       "      <th></th>\n",
       "      <th>odia</th>\n",
       "      <th>hindi</th>\n",
       "      <th>age</th>\n",
       "    </tr>\n",
       "  </thead>\n",
       "  <tbody>\n",
       "    <tr>\n",
       "      <th>0</th>\n",
       "      <td>ରାମ</td>\n",
       "      <td>राम</td>\n",
       "      <td>23</td>\n",
       "    </tr>\n",
       "    <tr>\n",
       "      <th>1</th>\n",
       "      <td>ହରି</td>\n",
       "      <td>हरि</td>\n",
       "      <td>34</td>\n",
       "    </tr>\n",
       "    <tr>\n",
       "      <th>2</th>\n",
       "      <td>ଯୋଗୀ</td>\n",
       "      <td>योगी</td>\n",
       "      <td>45</td>\n",
       "    </tr>\n",
       "  </tbody>\n",
       "</table>\n",
       "</div>"
      ],
      "text/plain": [
       "   odia hindi  age\n",
       "0   ରାମ   राम   23\n",
       "1   ହରି   हरि   34\n",
       "2  ଯୋଗୀ  योगी   45"
      ]
     },
     "execution_count": 6,
     "metadata": {},
     "output_type": "execute_result"
    }
   ],
   "source": [
    "path = r\"names.csv\"\n",
    "df = pd.read_csv(path)\n",
    "df"
   ]
  },
  {
   "cell_type": "markdown",
   "metadata": {},
   "source": [
    "# Create JSON file"
   ]
  },
  {
   "cell_type": "code",
   "execution_count": 16,
   "metadata": {},
   "outputs": [
    {
     "name": "stdout",
     "output_type": "stream",
     "text": [
      "{\"odia\":\"ରାମ\",\"hindi\":\"राम\",\"age\":23}\n",
      "{\"odia\":\"ହରି\",\"hindi\":\"हरि\",\"age\":34}\n",
      "{\"odia\":\"ଯୋଗୀ\",\"hindi\":\"योगी\",\"age\":45}\n",
      "\n"
     ]
    }
   ],
   "source": [
    "# Direct conversion of pandas DataFrame to json\n",
    "odiaNames = ['ରାମ', 'ହରି', 'ଯୋଗୀ']\n",
    "hindiNames = ['राम', 'हरि', 'योगी']\n",
    "age = [23, 34, 45]\n",
    "\n",
    "df = pd.DataFrame({'odia': odiaNames, 'hindi': hindiNames, 'age': age})\n",
    "\n",
    "jsonString = df.to_json(orient='records', \n",
    "                        lines=True,\n",
    "                        force_ascii=False\n",
    "                        )\n",
    "print(jsonString)\n",
    "\n",
    "data = df.to_dict(orient='records') \n",
    "\n",
    "with open('names.json', 'w', encoding='utf-8') as f:\n",
    "  json.dump(data, f, indent=4, ensure_ascii=False)\n",
    "# Here the names.json is the file name and will be saved in the current working directory\n",
    "# You can mention the full adress (recommended)\n",
    "# With json, you always want a List of dictionaries structure\n",
    "# [{'key1' : 'value1', 'key2' : 'value2', 'key3' : 'value3'}, \n",
    "# {'key1' : 'value1', 'key2' : 'value2', 'key3' : 'value3'}]\n",
    "# You can have whatever value you want, a num, a string, a dict, a list, etc.\n",
    "# In JSON, you don't need to have same keys for every row, unlike in pandas DataFrame\n"
   ]
  },
  {
   "cell_type": "code",
   "execution_count": 17,
   "metadata": {},
   "outputs": [],
   "source": [
    "#Now, the list method.\n",
    "odiaNames = ['ରାମ', 'ହରି', 'ଯୋଗୀ']\n",
    "hindiNames = ['राम', 'हरि', 'योगी']\n",
    "age = [23, 34, 45]\n",
    "\n",
    "df = pd.DataFrame({'odia': odiaNames, 'hindi': hindiNames, 'age': age})\n",
    "\n",
    "data = []\n",
    "\n",
    "for index, row in df.iterrows():\n",
    "    data.append(dict(row))\n",
    "\n",
    "adress = r\"C:Demo\"\n",
    "file_name = 'names.json'\n",
    "\n",
    "with open(os.path.join(adress,file_name), \"w\", encoding=\"utf-8\") as json_file:\n",
    "    json.dump(data, json_file, ensure_ascii=False, indent = 4)\n",
    "\n",
    "#Both the methods produce the exact same result."
   ]
  },
  {
   "cell_type": "markdown",
   "metadata": {},
   "source": [
    "# Reading JSON file"
   ]
  },
  {
   "cell_type": "code",
   "execution_count": 23,
   "metadata": {},
   "outputs": [
    {
     "name": "stdout",
     "output_type": "stream",
     "text": [
      "[{'odia': 'ରାମ', 'hindi': 'राम', 'age': 23}, {'odia': 'ହରି', 'hindi': 'हरि', 'age': 34}, {'odia': 'ଯୋଗୀ', 'hindi': 'योगी', 'age': 45}]\n",
      "Total entries in the json file: 3\n"
     ]
    }
   ],
   "source": [
    "import json\n",
    "\n",
    "path = r\"C:Demo\\names.json\"\n",
    "\n",
    "with open(path, 'r', encoding='utf-8') as f:\n",
    "    data = json.load(f)\n",
    "\n",
    "print(data)\n",
    "\n",
    "print(f\"Total entries in the json file: {len(data):,}\")"
   ]
  },
  {
   "cell_type": "markdown",
   "metadata": {},
   "source": [
    "# How to know if your JSON file is alright\n",
    "\n",
    "- Read it using Python, and see if it's readable, then check its entry.\n",
    "- In your editor, install some JSON visualization extension, and see if the visualization is as you expected."
   ]
  }
 ],
 "metadata": {
  "kernelspec": {
   "display_name": "Python 3",
   "language": "python",
   "name": "python3"
  },
  "language_info": {
   "codemirror_mode": {
    "name": "ipython",
    "version": 3
   },
   "file_extension": ".py",
   "mimetype": "text/x-python",
   "name": "python",
   "nbconvert_exporter": "python",
   "pygments_lexer": "ipython3",
   "version": "3.10.1"
  }
 },
 "nbformat": 4,
 "nbformat_minor": 2
}
